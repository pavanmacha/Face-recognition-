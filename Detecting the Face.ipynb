{
 "cells": [
  {
   "cell_type": "code",
   "execution_count": 2,
   "id": "9bd7eeaa",
   "metadata": {},
   "outputs": [],
   "source": [
    "import cv2 as cv\n",
    "import matplotlib.pyplot as plt\n",
    "import numpy as np\n"
   ]
  },
  {
   "cell_type": "markdown",
   "id": "543c334d",
   "metadata": {},
   "source": [
    "# Detecting the face :"
   ]
  },
  {
   "cell_type": "code",
   "execution_count": 3,
   "id": "10a245d4",
   "metadata": {},
   "outputs": [],
   "source": [
    "classifier = cv.CascadeClassifier('haarcascade_frontalface_default.xml')\n",
    "cam=cv.VideoCapture(0)\n",
    "while True:\n",
    "    _,img=cam.read()\n",
    "    img=cv.flip(img,1)\n",
    "\n",
    "    faces=classifier.detectMultiScale(img,1.1,5)\n",
    "    for (x,y,w,h) in faces:\n",
    "            cv.rectangle(img,(x,y),(x+w,y+h),(0,180,0),2)\n",
    "   \n",
    "    cv.imshow('Frame',img)\n",
    "    if cv.waitKey(1)==27:\n",
    "        cam.release()\n",
    "        break"
   ]
  },
  {
   "cell_type": "markdown",
   "id": "e7d09c8c",
   "metadata": {},
   "source": [
    "# Cropping the face :"
   ]
  },
  {
   "cell_type": "code",
   "execution_count": 4,
   "id": "9fc6a97d",
   "metadata": {},
   "outputs": [],
   "source": [
    "classifier = cv.CascadeClassifier('haarcascade_frontalface_default.xml')\n",
    "cam=cv.VideoCapture(0)\n",
    "while True:\n",
    "    _,img=cam.read()\n",
    "    img=cv.flip(img,1)\n",
    "\n",
    "    faces=classifier.detectMultiScale(img,1.1,5)\n",
    "    \n",
    "    for f in faces:\n",
    "        if f[-1]==max(faces[:,-1]):\n",
    "            break\n",
    "    if len(faces)>=1:\n",
    "        x=f[0]\n",
    "        y=f[1]\n",
    "        w=f[2]\n",
    "        h=f[3]\n",
    "        \n",
    "        cv.rectangle(img,(x,y),(x+w,y+h),(0,180,0),2)\n",
    "        cropped=img[y:y+h,x:x+h]\n",
    "   \n",
    "    cv.imshow('Frame',img)\n",
    "    cv.imshow('cropped',cropped)\n",
    "    if cv.waitKey(1)==27:\n",
    "        cam.release()\n",
    "        break"
   ]
  },
  {
   "cell_type": "markdown",
   "id": "4335a020",
   "metadata": {},
   "source": [
    "# Bluring the face :"
   ]
  },
  {
   "cell_type": "code",
   "execution_count": 12,
   "id": "46bf0907",
   "metadata": {},
   "outputs": [],
   "source": [
    "classifier = cv.CascadeClassifier('haarcascade_frontalface_default.xml')\n",
    "cam=cv.VideoCapture(0)\n",
    "while True:\n",
    "    _,img=cam.read()\n",
    "    img=cv.flip(img,1)\n",
    "\n",
    "    faces=classifier.detectMultiScale(img,1.1,5)\n",
    "    \n",
    "    for f in faces:\n",
    "        if f[-1]==max(faces[:,-1]):\n",
    "            break\n",
    "    if len(faces)>=1:\n",
    "        x=f[0]\n",
    "        y=f[1]\n",
    "        w=f[2]\n",
    "        h=f[3]\n",
    "        \n",
    "        cv.rectangle(img,(x,y),(x+w,y+h),(0,180,0),2)\n",
    "        cropped=img[y:y+h,x:x+h]\n",
    "        cropped=cv.blur(cropped,(10,10))\n",
    "   \n",
    "    cv.imshow('Frame',img)\n",
    "    cv.imshow('cropped',cropped)\n",
    "    if cv.waitKey(1)==27:\n",
    "        cam.release()\n",
    "        break"
   ]
  },
  {
   "cell_type": "markdown",
   "id": "3f4d016a",
   "metadata": {},
   "source": [
    "# Adding borders to the image :"
   ]
  },
  {
   "cell_type": "code",
   "execution_count": 27,
   "id": "e8b8b5ff",
   "metadata": {},
   "outputs": [],
   "source": [
    "classifier = cv.CascadeClassifier('haarcascade_frontalface_default.xml')\n",
    "cam=cv.VideoCapture(0)\n",
    "while True:\n",
    "    _,img=cam.read()\n",
    "    img=cv.flip(img,1)\n",
    "\n",
    "    faces=classifier.detectMultiScale(img,1.1,5)\n",
    "    \n",
    "    for f in faces:\n",
    "        if f[-1]==max(faces[:,-1]):\n",
    "            break\n",
    "    x=f[0]\n",
    "    y=f[1]\n",
    "    w=f[2]\n",
    "    h=f[3]\n",
    "    cropped=img[y:y+h,x:x+h]\n",
    "    black=np.zeros((cropped.shape),dtype=int)\n",
    "    cv.rectangle(img,(x,y),(x+w,y+h),(0,180,0),2)\n",
    "    \n",
    "    img[y:y+h,x:x+h]=black\n",
    "    cv.imshow('Frame',img)\n",
    "    cv.imshow('cropped',cropped)\n",
    "    if cv.waitKey(1)==27:\n",
    "        cam.release()\n",
    "        break"
   ]
  },
  {
   "cell_type": "markdown",
   "id": "71f23d5c",
   "metadata": {},
   "source": [
    "# Adding name to the screen :"
   ]
  },
  {
   "cell_type": "code",
   "execution_count": 28,
   "id": "017c91f8",
   "metadata": {},
   "outputs": [],
   "source": [
    "classifier = cv.CascadeClassifier('haarcascade_frontalface_default.xml')\n",
    "cam=cv.VideoCapture(0)\n",
    "while True:\n",
    "    _,img=cam.read()\n",
    "    img=cv.flip(img,1)\n",
    "\n",
    "    faces=classifier.detectMultiScale(img,1.1,5)\n",
    "    \n",
    "    for f in faces:\n",
    "        if f[-1]==max(faces[:,-1]):\n",
    "            break\n",
    "    if len(faces)>=1:\n",
    "        x=f[0]\n",
    "        y=f[1]\n",
    "        w=f[2]\n",
    "        h=f[3]\n",
    "        \n",
    "        cv.rectangle(img,(x,y),(x+w,y+h),(0,180,0),2)\n",
    "        cropped=img[y:y+h,x:x+h]\n",
    "        cv.putText(img,'PavanTeja',(100,450),cv.FONT_HERSHEY_PLAIN,1,(0,180,0),2)\n",
    "   \n",
    "    cv.imshow('Frame',img)\n",
    "    cv.imshow('cropped',cropped)\n",
    "    if cv.waitKey(1)==27:\n",
    "        cam.release()\n",
    "        break"
   ]
  },
  {
   "cell_type": "code",
   "execution_count": null,
   "id": "7a5aca8f",
   "metadata": {},
   "outputs": [],
   "source": []
  }
 ],
 "metadata": {
  "kernelspec": {
   "display_name": "Python 3 (ipykernel)",
   "language": "python",
   "name": "python3"
  },
  "language_info": {
   "codemirror_mode": {
    "name": "ipython",
    "version": 3
   },
   "file_extension": ".py",
   "mimetype": "text/x-python",
   "name": "python",
   "nbconvert_exporter": "python",
   "pygments_lexer": "ipython3",
   "version": "3.10.9"
  }
 },
 "nbformat": 4,
 "nbformat_minor": 5
}
